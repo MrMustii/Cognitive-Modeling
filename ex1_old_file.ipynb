{
 "cells": [
  {
   "cell_type": "code",
   "execution_count": 7,
   "id": "eeaedc01",
   "metadata": {},
   "outputs": [
    {
     "name": "stdout",
     "output_type": "stream",
     "text": [
      "Path to dataset files: C:\\Users\\musti\\.cache\\kagglehub\\datasets\\abhikjha\\utk-face-cropped\\versions\\1\n"
     ]
    }
   ],
   "source": [
    "import kagglehub\n",
    "\n",
    "# Download latest version\n",
    "path = kagglehub.dataset_download(\"abhikjha/utk-face-cropped\")\n",
    "\n",
    "print(\"Path to dataset files:\", path)"
   ]
  },
  {
   "cell_type": "code",
   "execution_count": 8,
   "id": "9f92be70",
   "metadata": {},
   "outputs": [
    {
     "name": "stdout",
     "output_type": "stream",
     "text": [
      "Folder with path: C:\\Users\\musti\\.cache\\kagglehub\\datasets\\abhikjha\\utk-face-cropped\\versions\\1\\utkcropped\n",
      "Number of black women: 355\n"
     ]
    }
   ],
   "source": [
    "import os\n",
    "\n",
    "folder = os.listdir(path)[0]\n",
    "folder = os.path.join(path, folder)\n",
    "print(\"Folder with path:\", folder)\n",
    "black_women = [image for image in os.listdir(folder) if \"26_1_1_\" in image]\n",
    "print(\"Number of black women:\", len(black_women))\n",
    "\n",
    "\n",
    "# Copy files to a new folder\n",
    "import shutil\n",
    "new_folder = \"data\"\n",
    "for image in black_women:\n",
    "    src = os.path.join(folder, image)\n",
    "    dst = os.path.join(new_folder, image)\n",
    "    shutil.copy(src, dst)"
   ]
  },
  {
   "cell_type": "code",
   "execution_count": null,
   "id": "47972ae7",
   "metadata": {},
   "outputs": [
    {
     "name": "stdout",
     "output_type": "stream",
     "text": [
      "Number of unique images: 340\n"
     ]
    }
   ],
   "source": [
    "import hashlib\n",
    "hashes = {}\n",
    "for image in os.listdir(new_folder):\n",
    "    with open(os.path.join(new_folder, image), \"rb\") as f:\n",
    "        file_hash = hashlib.md5(f.read()).hexdigest()\n",
    "    if file_hash in hashes:\n",
    "        os.remove(os.path.join(new_folder, image))\n",
    "    else:\n",
    "        hashes[file_hash] = image  \n",
    "\n",
    "print(\"Number of unique images:\", len(os.listdir(new_folder)))\n"
   ]
  },
  {
   "cell_type": "code",
   "execution_count": null,
   "id": "e447e4be",
   "metadata": {},
   "outputs": [],
   "source": [
    "black_women = os.listdir(new_folder)\n",
    "ratings = dict([(image, (0,0)) for image in black_women])\n",
    "from IPython.display import Image, display\n",
    "num_images = len(ratings)\n",
    "current_image = 0\n",
    "deleted = 0\n",
    "rated_images =[]\n",
    "with open(\"new.txt\", \"r\") as f:\n",
    "    for line in f:\n",
    "        image, rating1, rating2 = line.strip().split(\", \")\n",
    "        rated_images.append(image)\n",
    "        current_image += 1\n",
    "        if rating1 == \"-1\" or rating2 == \"-1\":\n",
    "            deleted += 1\n",
    "\n",
    "for image in ratings.keys():\n",
    "    if image in rated_images:\n",
    "        continue\n",
    "    display(Image(filename=os.path.join(new_folder, image)))\n",
    "    rating1 = input(f\"user 1, Rate the happiness of the person in {image} (1-5): \")\n",
    "    rating2 = input(f\"user 2, Rate the happiness of the person in {image} (1-5): \")\n",
    "\n",
    "    ratings[image] = (int(rating1), int(rating2))\n",
    "    current_image += 1\n",
    "    with open(\"new.txt\", \"a\") as f:\n",
    "        f.write(f\"{image}, {rating1}, {rating2}\\n\")\n",
    "    print(f\"Progress: {current_image}/{num_images} images rated.\")\n",
    "    if rating1 == \"-1\" or rating2 == \"-1\":\n",
    "        deleted += 1\n",
    "        print(f\"Total deleted: {deleted}\")\n",
    "\n",
    "\n",
    "    \n",
    "\n"
   ]
  },
  {
   "cell_type": "code",
   "execution_count": 26,
   "id": "9930ab9c",
   "metadata": {},
   "outputs": [
    {
     "name": "stdout",
     "output_type": "stream",
     "text": [
      "Removed lines with -1 ratings. 280 lines remaining in new.txt\n",
      "Number of images after deletion: 306\n",
      "Number of ratings after deletion: 306\n"
     ]
    }
   ],
   "source": [
    "# delete images with rating -1\n",
    "to_delete = [image for image, (r1,r2) in ratings.items() if r1 == -1 or r2 == -1]\n",
    "for image in to_delete:\n",
    "    os.remove(os.path.join(new_folder, image))\n",
    "#remove -1 lines from new.txt \n",
    "with open(\"new.txt\", \"r\") as f:\n",
    "    lines = f.readlines()\n",
    "\n",
    "filtered_lines = []\n",
    "for line in lines:\n",
    "    parts = line.strip().split(\", \")\n",
    "    if len(parts) == 3:\n",
    "        image, rating1, rating2 = parts\n",
    "        if rating1 != \"-1\" and rating2 != \"-1\" and rating1>= \"1\" and rating1 <= \"5\" and rating2 >= \"1\" and rating2 <= \"5\":\n",
    "            filtered_lines.append(line)\n",
    "\n",
    "# Write the filtered lines back to the file\n",
    "with open(\"newfiltered.txt\", \"w\") as f:\n",
    "    f.writelines(filtered_lines)\n",
    "\n",
    "print(f\"Removed lines with -1 ratings. {len(filtered_lines)} lines remaining in new.txt\")\n",
    "print(\"Number of images after deletion:\", len(os.listdir(new_folder)))\n",
    "ratings = {image: (r1,r2) for image, (r1,r2) in ratings.items() if r1 != -1 and r2 != -1}\n",
    "print(\"Number of ratings after deletion:\", len(ratings))\n"
   ]
  },
  {
   "cell_type": "code",
   "execution_count": null,
   "id": "623462ff",
   "metadata": {},
   "outputs": [
    {
     "data": {
      "image/png": "[encoded data removed]",
      "text/plain": [
       "<Figure size 1200x500 with 2 Axes>"
      ]
     },
     "metadata": {},
     "output_type": "display_data"
    }
   ],
   "source": [
    "ratings1 = []\n",
    "ratings2 = []\n",
    "\n",
    "with open(\"newfiltered.txt\", \"r\") as f:\n",
    "    for line in f:\n",
    "        image, rating1,rating2 = line.strip().split(\", \")\n",
    "        ratings1.append((image, int(rating1)))\n",
    "        ratings2.append((image, int(rating2)))\n",
    "\n",
    "# frequency of each rating\n",
    "from collections import Counter\n",
    "rating_counts1 = Counter([rating for image, rating in ratings1])\n",
    "rating_counts2 = Counter([rating for image, rating in ratings2])\n",
    "\n",
    "# histogram\n",
    "import matplotlib.pyplot as plt\n",
    "fig , axs = plt.subplots(1, 2, figsize=(12, 5))\n",
    "axs[0].bar(rating_counts1.keys(), rating_counts1.values())\n",
    "axs[0].set_title('User 1')\n",
    "axs[0].set_xlabel('Rating')\n",
    "axs[0].set_ylabel('Frequency')\n",
    "axs[1].bar(rating_counts2.keys(), rating_counts2.values())\n",
    "axs[1].set_title('User 2')\n",
    "axs[1].set_xlabel('Rating')\n",
    "axs[1].set_ylabel('Frequency')\n",
    "plt.show()\n",
    "# user 1 Anka user 2 mustafa\n",
    "# rember to clean data \n"
   ]
  }
 ],
 "metadata": {
  "kernelspec": {
   "display_name": "Python 3",
   "language": "python",
   "name": "python3"
  },
  "language_info": {
   "codemirror_mode": {
    "name": "ipython",
    "version": 3
   },
   "file_extension": ".py",
   "mimetype": "text/x-python",
   "name": "python",
   "nbconvert_exporter": "python",
   "pygments_lexer": "ipython3",
   "version": "3.12.6"
  }
 },
 "nbformat": 4,
 "nbformat_minor": 5
}
