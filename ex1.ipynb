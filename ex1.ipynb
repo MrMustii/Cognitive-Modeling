{
 "cells": [
  {
   "cell_type": "code",
   "execution_count": 17,
   "id": "eeaedc01",
   "metadata": {},
   "outputs": [
    {
     "name": "stdout",
     "output_type": "stream",
     "text": [
      "Downloading from https://www.kaggle.com/api/v1/datasets/download/abhikjha/utk-face-cropped?dataset_version_number=1...\n"
     ]
    },
    {
     "name": "stderr",
     "output_type": "stream",
     "text": [
      "100%|██████████| 232M/232M [00:07<00:00, 32.4MB/s] "
     ]
    },
    {
     "name": "stdout",
     "output_type": "stream",
     "text": [
      "Extracting files...\n"
     ]
    },
    {
     "name": "stderr",
     "output_type": "stream",
     "text": [
      "\n"
     ]
    },
    {
     "name": "stdout",
     "output_type": "stream",
     "text": [
      "Path to dataset files: C:\\Users\\musti\\.cache\\kagglehub\\datasets\\abhikjha\\utk-face-cropped\\versions\\1\n"
     ]
    }
   ],
   "source": [
    "import kagglehub\n",
    "\n",
    "# Download latest version\n",
    "path = kagglehub.dataset_download(\"abhikjha/utk-face-cropped\")\n",
    "\n",
    "print(\"Path to dataset files:\", path)"
   ]
  },
  {
   "cell_type": "code",
   "execution_count": 26,
   "id": "9f92be70",
   "metadata": {},
   "outputs": [
    {
     "name": "stdout",
     "output_type": "stream",
     "text": [
      "Folder with path: C:\\Users\\musti\\.cache\\kagglehub\\datasets\\abhikjha\\utk-face-cropped\\versions\\1\\utkcropped\n",
      "Number of black women: 355\n"
     ]
    }
   ],
   "source": [
    "import os\n",
    "\n",
    "folder = os.listdir(path)[0]\n",
    "folder = os.path.join(path, folder)\n",
    "print(\"Folder with path:\", folder)\n",
    "black_women = [image for image in os.listdir(folder) if \"26_1_1_\" in image]\n",
    "print(\"Number of black women:\", len(black_women))\n",
    "\n",
    "\n",
    "# Copy files to a new folder\n",
    "import shutil\n",
    "new_folder = \"data\"\n",
    "\n",
    "for image in black_women:\n",
    "    src = os.path.join(folder, image)\n",
    "    dst = os.path.join(new_folder, image)\n",
    "    shutil.copy(src, dst)\n"
   ]
  }
 ],
 "metadata": {
  "kernelspec": {
   "display_name": "Python 3",
   "language": "python",
   "name": "python3"
  },
  "language_info": {
   "codemirror_mode": {
    "name": "ipython",
    "version": 3
   },
   "file_extension": ".py",
   "mimetype": "text/x-python",
   "name": "python",
   "nbconvert_exporter": "python",
   "pygments_lexer": "ipython3",
   "version": "3.12.6"
  }
 },
 "nbformat": 4,
 "nbformat_minor": 5
}
